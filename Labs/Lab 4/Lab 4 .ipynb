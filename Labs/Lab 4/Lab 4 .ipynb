{
 "cells": [
  {
   "cell_type": "markdown",
   "id": "87363b4b",
   "metadata": {},
   "source": [
    "<hr style=\"border:2px solid gray\"> </hr>\n",
    "<img src=\"https://mma.prnewswire.com/media/1095203/East_Tennessee_State_University_Logo.jpg?p=facebook\" width=200 height=200 />\n",
    "\n",
    "<div class=\"alert alert-block alert-info\">\n",
    "    <h1 style=\"text-align: center\">CSCI 5037 - NLP & Text Analysis</h1>\n",
    "</div>\n",
    "\n",
    "# <center>Lab 4 – Topic Modeling</center>\n",
    "\n",
    "**<center>Dr. Ahmad Al-Doulat </center>**\n",
    "<center>Department of Computing </center>\n",
    "<center>East Tennessee State University</center>\n",
    "\n",
    "<hr style=\"border:2px solid lightblue\"> </hr>"
   ]
  },
  {
   "cell_type": "markdown",
   "id": "f647de7f",
   "metadata": {},
   "source": [
    "**In this assignment, you'll get to practice the concepts and skills covered in the course so far. The main objective of this assignment is to implement and use some of the tools, algorithms, and techniques to perform topic modeling to extract important topics and words from textual data..**\n",
    "\n",
    "\n",
    "\n",
    "**Guidelines**\n",
    "* Download `abcnews-date-text.csv` file from D2L. \n",
    "* Make sure to run all the code cells, otherwise you may get errors like `NameError` for undefined variables.\n",
    "* Do not change variable names, delete cells or disturb other existing code. It may cause problems during evaluation.\n",
    "* In some cases, you may need to add some code cells or new statements before or after the line of code containing the `???`.\n",
    "* Use markdown cells to write your discussions and reflections. \n",
    "\n",
    "**Procedure**\n",
    "* Save your work as `IPYNB` file named `Lab4.ipynb` and submit to D2L `Lab 4 – Topic Modeling (Dropbox)` by the due date.\n",
    "* As you go through this notebook, you will find the symbol `???` in certain places. To complete this assignment, you must replace all the `???` with appropriate values, expressions or statements to ensure that the notebook runs properly end-to-end.\n",
    "* Include your response for `Part 1` and `Part 2` in this notebook. "
   ]
  },
  {
   "cell_type": "markdown",
   "id": "021e19a6",
   "metadata": {},
   "source": [
    "<div class=\"alert alert-block alert-info\">\n",
    "\n",
    "# Part 1: Activity \n",
    "\n",
    "</div>"
   ]
  },
  {
   "cell_type": "markdown",
   "id": "af6a1547",
   "metadata": {},
   "source": [
    "### Question 1: Read the content of the `abcnews-date-text.csv` and perform the following:\n",
    "<hr style=\"border:1px solid orange\"> </hr>"
   ]
  },
  {
   "cell_type": "markdown",
   "id": "4fee93f4",
   "metadata": {},
   "source": [
    "> **Q1.1.** Preprocess the `headline_text` field content by performing the necessary steps to make it ready for applying topic modeling algorithms. Store the resulted preprocessed text into a list called `headlines`\n",
    "\n",
    "> **Q1.2.** Using `Explicit Symantic Analysis` algorithm, find and print the top `20` related documents to the following document: \n",
    ">>   \\['price', 'sugar', 'sweet'\\]. \n",
    "\n",
    "> **Q1.3.** Using only the first `50` headlines, perform a document clustering using `AgglomerativeClustering` algorithm and plot the resulted dendrogram.\n",
    "\n",
    "> **Q1.4.** Using `Latent Dirichlett Allocation` algorithm, perform topic modeling to find `20` topics from the headlines. Then, print the top `10` words for each topic. \n",
    "\n",
    "> **Q1.5.** Using `Non-Negative Matrix Factorization` algorithm, perform topic modeling to find `20` topics from the headlines. Then, print the top `10` words for each topic. "
   ]
  },
  {
   "cell_type": "code",
   "execution_count": 1,
   "id": "0b2f973e",
   "metadata": {},
   "outputs": [],
   "source": [
    "import pandas as pd\n",
    "\n",
    "from nltk.corpus import stopwords\n",
    "from nltk.tokenize import word_tokenize\n",
    "from nltk.stem import WordNetLemmatizer\n",
    "import re\n",
    "\n",
    "from sklearn.feature_extraction.text import TfidfVectorizer\n",
    "from sklearn.metrics.pairwise import cosine_similarity\n",
    "from sklearn.cluster import AgglomerativeClustering\n",
    "\n",
    "from sklearn.decomposition import LatentDirichletAllocation\n",
    "from sklearn.decomposition import NMF\n",
    "import matplotlib.pyplot as plt\n",
    "from scipy.cluster.hierarchy import dendrogram, linkage\n"
   ]
  },
  {
   "cell_type": "code",
   "execution_count": 2,
   "id": "95564f9f",
   "metadata": {},
   "outputs": [],
   "source": [
    "data = pd.read_csv('abcnews-date-text.csv')\n",
    "\n"
   ]
  },
  {
   "cell_type": "code",
   "execution_count": 3,
   "id": "7e939359",
   "metadata": {},
   "outputs": [],
   "source": [
    "# Initialize lemmatizer and stopwords\n",
    "lemmatizer = WordNetLemmatizer()\n",
    "stop_words = set(stopwords.words('english'))\n",
    "\n",
    "# Preprocess function\n",
    "def preprocess_text(text):\n",
    "    text = text.lower()  # Convert to lowercase\n",
    "    text = re.sub(r'[^a-zA-Z\\s]', '', text) #remove numeric characters and  special characters\n",
    "    \n",
    "    words = word_tokenize(text)  # Tokenize\n",
    "    words = [lemmatizer.lemmatize(word) for word in words if word not in stop_words]  # Lemmatize and remove stopwords\n",
    "    return words"
   ]
  },
  {
   "cell_type": "code",
   "execution_count": 4,
   "id": "8e3ffb28",
   "metadata": {},
   "outputs": [
    {
     "data": {
      "text/plain": [
       "[['aba', 'decides', 'community', 'broadcasting', 'licence'],\n",
       " ['act', 'fire', 'witness', 'must', 'aware', 'defamation'],\n",
       " ['g', 'call', 'infrastructure', 'protection', 'summit'],\n",
       " ['air', 'nz', 'staff', 'aust', 'strike', 'pay', 'rise'],\n",
       " ['air', 'nz', 'strike', 'affect', 'australian', 'traveller']]"
      ]
     },
     "execution_count": 4,
     "metadata": {},
     "output_type": "execute_result"
    }
   ],
   "source": [
    "# Applying preprocessing to the headline_text column\n",
    "headlines = data[\"headline_text\"].apply(preprocess_text).tolist()\n",
    "\n",
    "headlines[:5]  # View first 5 to check\n"
   ]
  },
  {
   "cell_type": "markdown",
   "id": "90aa003a",
   "metadata": {},
   "source": [
    "\n",
    "**Q1.2.** Using `Explicit Symantic Analysis` algorithm, find and print the top `20` related documents to the following document: \n",
    ">>   \\['price', 'sugar', 'sweet'\\]. \n"
   ]
  },
  {
   "cell_type": "code",
   "execution_count": 5,
   "id": "f6aa6b96",
   "metadata": {},
   "outputs": [
    {
     "name": "stdout",
     "output_type": "stream",
     "text": [
      "1. ['sugar', 'price', 'forecast', 'sweet']\n",
      "2. ['sugar', 'price', 'bitter', 'sweet']\n",
      "3. ['sweet', 'deal', 'sugar']\n",
      "4. ['sugar', 'outlook', 'sweet']\n",
      "5. ['china', 'sweet', 'aussie', 'sugar']\n",
      "6. ['sugar', 'price']\n",
      "7. ['sweet', 'time', 'sugar', 'community']\n",
      "8. ['sugar', 'sweet', 'say', 'researcher']\n",
      "9. ['sweet', 'sugar', 'power', 'revenue', 'mackay', 'sugar']\n",
      "10. ['sugar', 'region', 'sweet', 'beattie']\n",
      "11. ['sweet', 'demand', 'push', 'global', 'sugar', 'price', 'four', 'year', 'high']\n",
      "12. ['ord', 'expansion', 'sweet', 'sugar']\n",
      "13. ['hope', 'sweet', 'deal', 'boost', 'sugar', 'industry']\n",
      "14. ['sugar', 'deal', 'sweet', 'msf']\n",
      "15. ['grower', 'hoping', 'sweet', 'sugar', 'deal']\n",
      "16. ['sugar', 'festival', 'prof', 'sweet', 'time']\n",
      "17. ['u', 'sugar', 'industry', 'welcome', 'sweet', 'trade', 'deal']\n",
      "18. ['sweet', 'outlook', 'sugar', 'cane', 'farmer']\n",
      "19. ['burdekin', 'sugar', 'crush', 'sweet']\n",
      "20. ['sugar', 'business', 'sweet', 'csr', 'say']\n"
     ]
    }
   ],
   "source": [
    "# Define the new document\n",
    "new_document = ['price', 'sugar', 'sweet']\n",
    "\n",
    "# Vectorize the documents using TF-IDF\n",
    "vectorizer = TfidfVectorizer()\n",
    "X = vectorizer.fit_transform([' '.join(doc) for doc in headlines])  # Transform headlines to TF-IDF\n",
    "query_vec = vectorizer.transform([' '.join(new_document)])  # Transform the new document\n",
    "\n",
    "# Compute cosine similarity\n",
    "cos_sim = cosine_similarity(query_vec, X).flatten()\n",
    "\n",
    "# Get the top 20 most similar documents\n",
    "top_20_indices = cos_sim.argsort()[-20:][::-1]  # Sort and get the top 20\n",
    "top_20_documents = [headlines[i] for i in top_20_indices]\n",
    "\n",
    "for i in range(len(top_20_documents)):\n",
    "    print(f'{i+1}. {top_20_documents[i]}')\n",
    "\n"
   ]
  },
  {
   "cell_type": "markdown",
   "id": "19003d57",
   "metadata": {},
   "source": [
    "\n",
    "**Q1.3.** Using only the first `50` headlines, perform a document clustering using `AgglomerativeClustering` algorithm and plot the resulted dendrogram.\n"
   ]
  },
  {
   "cell_type": "code",
   "execution_count": 6,
   "id": "2a2fed29",
   "metadata": {},
   "outputs": [
    {
     "data": {
      "image/png": "[encoded data removed]",
      "text/plain": [
       "<Figure size 1000x700 with 1 Axes>"
      ]
     },
     "metadata": {},
     "output_type": "display_data"
    }
   ],
   "source": [
    "# Limit to first 50 headlines\n",
    "headlines_sample = headlines[:50]\n",
    "\n",
    "# Vectorize the text using TF-IDF\n",
    "X = vectorizer.fit_transform([' '.join(headline) for headline in headlines_sample])\n",
    "\n",
    "# Perform hierarchical clustering\n",
    "Z = linkage(X.toarray(), method='ward')\n",
    "\n",
    "# Plot dendrogram\n",
    "plt.figure(figsize=(10, 7))\n",
    "dendrogram(Z)\n",
    "plt.show()\n"
   ]
  },
  {
   "cell_type": "markdown",
   "id": "21aec623",
   "metadata": {},
   "source": [
    "\n",
    "**Q1.4.** Using `Latent Dirichlett Allocation` algorithm, perform topic modeling to find `20` topics from the headlines. Then, print the top `10` words for each topic. \n"
   ]
  },
  {
   "cell_type": "code",
   "execution_count": 7,
   "id": "3c4c6592",
   "metadata": {},
   "outputs": [
    {
     "name": "stdout",
     "output_type": "stream",
     "text": [
      "Topic #0:\n",
      "fund miss cemetery independent contest wollongong councillor goal freak ruin\n",
      "Topic #1:\n",
      "aba broadcasting licence decides change three wale england water boost\n",
      "Topic #2:\n",
      "youth homeless vegetable plant processing dispute smithton community help urged\n",
      "Topic #3:\n",
      "avenges calleri defeat final massu eliminate council england fed fate\n",
      "Topic #4:\n",
      "barca record antic breaking delighted contribute million aid fate de\n",
      "Topic #5:\n",
      "harassed dismisses brigadier report troop chemical still clean cost trying\n",
      "Topic #6:\n",
      "crash head highway injured phoned dying passenger four subway korean\n",
      "Topic #7:\n",
      "victim see centrelink bushfire direct govt soldier urge anger urged\n",
      "Topic #8:\n",
      "iraqi plebiscite dems conflict hold south climb death toll continues\n",
      "Topic #9:\n",
      "council rise insurance nz australia big plan opp air crean\n",
      "Topic #10:\n",
      "business terrorist attack prepare stosur aussie memphis waste qualifier match\n",
      "Topic #11:\n",
      "breakthrough insurance welcome locked timetable war expression interest build livestock\n",
      "Topic #12:\n",
      "blizzard buries state bill united act witness must aware defamation\n",
      "Topic #13:\n",
      "firefighter acid contain spill council australia down fed fate fails\n",
      "Topic #14:\n",
      "dargo expected threat jump ambitious triple olsson rise fire daily\n",
      "Topic #15:\n",
      "move bathhouse plan ahead garden protect ta heritage home fixed\n",
      "Topic #16:\n",
      "council ambulance decision levy un address security welcome aust iraq\n",
      "Topic #17:\n",
      "fed introduce national become tv commonplace digital fuel ethanol go\n",
      "Topic #18:\n",
      "overtime lakers double bryant lead win council delighted executive four\n",
      "Topic #19:\n",
      "infrastructure protection call summit launceston hope cycling championship big regulation\n"
     ]
    }
   ],
   "source": [
    "\n",
    "# Apply LDA\n",
    "lda = LatentDirichletAllocation(n_components=20, random_state=42)\n",
    "lda.fit(X)\n",
    "\n",
    "# Get the top 10 words for each topic\n",
    "n_top_words = 10\n",
    "feature_names = vectorizer.get_feature_names_out()\n",
    "\n",
    "for topic_idx, topic in enumerate(lda.components_):\n",
    "    print(f\"Topic #{topic_idx}:\")\n",
    "    print(\" \".join([feature_names[i] for i in topic.argsort()[:-n_top_words - 1:-1]]))\n",
    "\n"
   ]
  },
  {
   "cell_type": "markdown",
   "id": "90eab8e9",
   "metadata": {},
   "source": [
    "\n",
    "> **Q1.5.** Using `Non-Negative Matrix Factorization` algorithm, perform topic modeling to find `20` topics from the headlines. Then, print the top `10` words for each topic. "
   ]
  },
  {
   "cell_type": "code",
   "execution_count": 8,
   "id": "2568ca53",
   "metadata": {},
   "outputs": [
    {
     "name": "stdout",
     "output_type": "stream",
     "text": [
      "Topic #1:\n",
      "council welcome breakthrough levy decision ambulance insurance fails executive position\n",
      "Topic #2:\n",
      "strike air nz australian affect traveller staff pay aust rise\n",
      "Topic #3:\n",
      "subway korean dying phoned passenger toll continues climb death south\n",
      "Topic #4:\n",
      "ahead move bathhouse plan go fuel ethanol blend call heritage\n",
      "Topic #5:\n",
      "barca record breaking delighted antic birthday celebrates take robson leadership\n",
      "Topic #6:\n",
      "summit call infrastructure protection commonplace tv digital become fuel ethanol\n",
      "Topic #7:\n",
      "opp national fed introduce insurance war locked timetable australia breakthrough\n",
      "Topic #8:\n",
      "four match qualifier stosur waste aussie memphis crash head highway\n",
      "Topic #9:\n",
      "urged community youth homeless help bushfire centrelink victim see broadcasting\n",
      "Topic #10:\n",
      "troop harassed dismisses report brigadier arriving kuwait daily combat british\n",
      "Topic #11:\n",
      "fire expected threat dargo rise witness defamation act must aware\n",
      "Topic #12:\n",
      "win jump triple ambitious olsson bryant double lead lakers overtime\n",
      "Topic #13:\n",
      "iraq contribute aid million australia address security un aust council\n",
      "Topic #14:\n",
      "crean direct govt soldier urge anger tell shut critic leadership\n",
      "Topic #15:\n",
      "big hope cycling championship launceston paroo supply boost water plan\n",
      "Topic #16:\n",
      "march fate de learn villiers epa chemical trying clean cost\n",
      "Topic #17:\n",
      "code toughens conduct organ regulation donation contest councillor wollongong independent\n",
      "Topic #18:\n",
      "rom carew ruin goal freak leaf home bank cut loan\n",
      "Topic #19:\n",
      "fund miss cemetery attack business terrorist prepare plebiscite dems conflict\n",
      "Topic #20:\n",
      "blizzard buries united bill state toddler dog maul month nsw\n"
     ]
    }
   ],
   "source": [
    "# Apply NMF\n",
    "nmf = NMF(n_components=20, random_state=42)\n",
    "nmf.fit(X)\n",
    "\n",
    "# Get the top 10  words for each topic\n",
    "for topic_idx, topic in enumerate(nmf.components_):\n",
    "    print(f\"Topic #{topic_idx+1}:\")\n",
    "    print(\" \".join([feature_names[i] for i in topic.argsort()[:-n_top_words - 1:-1]]))\n",
    "    \n"
   ]
  },
  {
   "cell_type": "markdown",
   "id": "a06c4859",
   "metadata": {},
   "source": [
    "<div class=\"alert alert-block alert-info\">\n",
    "\n",
    "# Part 2: Reflection\n",
    "    \n",
    "</div>"
   ]
  },
  {
   "cell_type": "markdown",
   "id": "73f41c86",
   "metadata": {},
   "source": [
    "As a second step—after answering the questions, include the following:\n",
    "1. A reflection of your experience performing the activity. \n",
    "2. A reflection on the importance of learning this activity.\n",
    "**Note:** include your reflection in this notebook as markdown cells. "
   ]
  },
  {
   "cell_type": "markdown",
   "id": "f04ec951",
   "metadata": {},
   "source": [
    "### Reflection on Topic Modeling \n",
    "This module introduced me to useful text modeling methods like topic modeling and document clustering, which are key for analyzing large sets of text data in the real world..\n",
    "I worked with the dataset and started by cleaning the text,removing stopwords, tokenization  which was a crucial first step. It was taking longer than expected I initially used a the first 100. After that, I used Agglomerative Clustering and created a dendrogram to visualize how the documents were grouped based on similarities. For topic modeling, I applied Latent Dirichlet Allocation (LDA) and Non-Negative Matrix Factorization (NMF) to extract the main topics from the dataset. \n",
    "Seeing the top words in each topic made the process more appreciated and prepares me for my project where I utilized same approache to analyze ESG reports and assess performance of copmanies. \n",
    "These methods are valuable for real-world applications. In my project to analyze reports for ESG,I can use text modeling to organize and analyze text data to rank text based on impotance and relevants to a topic and set of documents make better decisions. This module gave me practical experience in text mining and topic modeling. These skills are going to be helpful for my future work and studies, especially when dealing with large sets of text data."
   ]
  },
  {
   "cell_type": "markdown",
   "id": "844c3dbe",
   "metadata": {},
   "source": [
    "<div class=\"alert alert-block alert-info\">\n",
    "\n",
    "# Submission\n",
    "    \n",
    "</div>"
   ]
  },
  {
   "cell_type": "markdown",
   "id": "fbd22e1a",
   "metadata": {},
   "source": [
    "Submit **Lab4.ipynb** to the **Lab 4 – Topic Modeling (Dropbox)** on D2L by the due date. "
   ]
  },
  {
   "cell_type": "markdown",
   "id": "f053c344",
   "metadata": {},
   "source": [
    "<div class=\"alert alert-block alert-info\">\n",
    "\n",
    "# Grading Rubric\n",
    "    \n",
    "</div>"
   ]
  },
  {
   "cell_type": "markdown",
   "id": "71c85704",
   "metadata": {},
   "source": [
    "| Criterion                            | Excellent                                             | Good                                                  | Average                                                   | Below Average                                                | Poor                                                         | No Attempt                               |\n",
    "|--------------------------------------|------------------------------------------------------|-------------------------------------------------------|-----------------------------------------------------------|-------------------------------------------------------------|--------------------------------------------------------------|------------------------------------------|\n",
    "| **Part 1:** Activity-Question 1.1    | **10 points** - Completes all aspects of the question correctly | **8 points** - Completes most aspects of the question correctly | **6 points** - Completes aspects of the question correctly, and some incorrectly | **4 points** - Completes most aspects of the question incorrectly or does not attempt many aspects | **2 points** - Minimal effort or completes a few aspects of the question or very few correctly | **0 points** - Did not complete the question |\n",
    "| **Part 1:** Activity-Question 1.2    | **10 points** - Completes all aspects of the question correctly | **8 points** - Completes most aspects of the question correctly | **6 points** - Completes aspects of the question correctly, and some incorrectly | **4 points** - Completes most aspects of the question incorrectly or does not attempt many aspects | **2 points** - Minimal effort or completes a few aspects of the question or very few correctly | **0 points** - Did not complete the question |\n",
    "| **Part 1:** Activity-Question 1.3    | **10 points** - Completes all aspects of the question correctly | **8 points** - Completes most aspects of the question correctly | **6 points** - Completes aspects of the question correctly, and some incorrectly | **4 points** - Completes most aspects of the question incorrectly or does not attempt many aspects | **2 points** - Minimal effort or completes a few aspects of the question or very few correctly | **0 points** - Did not complete the question |\n",
    "| **Part 1:** Activity-Question 1.4    | **10 points** - Completes all aspects of the question correctly | **8 points** - Completes most aspects of the question correctly | **6 points** - Completes aspects of the question correctly, and some incorrectly | **4 points** - Completes most aspects of the question incorrectly or does not attempt many aspects | **2 points** - Minimal effort or completes a few aspects of the question or very few correctly | **0 points** - Did not complete the question |\n",
    "| **Part 1:** Activity-Question 1.5    | **10 points** - Completes all aspects of the question correctly | **8 points** - Completes most aspects of the question correctly | **6 points** - Completes aspects of the question correctly, and some incorrectly | **4 points** - Completes most aspects of the question incorrectly or does not attempt many aspects | **2 points** - Minimal effort or completes a few aspects of the question or very few correctly | **0 points** - Did not complete the question |\n",
    "| **Part 2:** Reflection                | **10 points** - Reflection clearly ties to the module content; experience and importance clearly laid out | **8 points** - Reflection mostly ties to the module content; experience & importance are discussed | **6 points** - Reflection ties minimally to the module content; experience & importance are discussed but not thoroughly | **4 points** - Reflection does not tie to the module content; experience & importance are minimally discussed | **2 points** - Minimal effort to tie to content; minimal effort to describe experience/importance | **0 points** - Did not complete the reflection |\n"
   ]
  },
  {
   "cell_type": "markdown",
   "id": "26913da0",
   "metadata": {},
   "source": [
    "#### Reflection on Text Mining Techniques\n",
    "This module introduced me to useful text mining methods like topic modeling and document clustering, which are key for analyzing large sets of text data.\n",
    "\n",
    "I worked with the dataset and started by cleaning the text, with a pre-processor function that removes stopwords non alphabetic, special charaters ,tokenization  which was a crucial first step. It was taking longer than expected I initially used a the first 100. After that, I used Agglomerative Clustering and created a dendrogram to visualize how the documents were grouped based on similarities.\n",
    "\n",
    "For topic modeling, I applied Latent Dirichlet Allocation (LDA) and Non-Negative Matrix Factorization (NMF) to extract the main topics from the dataset. \n",
    "Seeing the top words in each topic made the process more appreciated\n",
    "\n",
    "These methods are valuable for real-world applications. In my project to analyze reports for ESG,I can use text mining to analyze organize and analyze text data to make better decisions. \n",
    "\n",
    "Conclusion\n",
    "\n",
    "This module gave me practical experience in text mining and topic modeling. These skills are going to be helpful for my future work and studies, especially when dealing with large sets of text data."
   ]
  },
  {
   "cell_type": "markdown",
   "id": "628f1486",
   "metadata": {},
   "source": []
  }
 ],
 "metadata": {
  "kernelspec": {
   "display_name": "nlp",
   "language": "python",
   "name": "nlp"
  },
  "language_info": {
   "codemirror_mode": {
    "name": "ipython",
    "version": 3
   },
   "file_extension": ".py",
   "mimetype": "text/x-python",
   "name": "python",
   "nbconvert_exporter": "python",
   "pygments_lexer": "ipython3",
   "version": "3.12.5"
  },
  "toc": {
   "base_numbering": 1,
   "nav_menu": {},
   "number_sections": false,
   "sideBar": true,
   "skip_h1_title": true,
   "title_cell": "Table of Contents",
   "title_sidebar": "Contents",
   "toc_cell": false,
   "toc_position": {
    "height": "calc(100% - 180px)",
    "left": "10px",
    "top": "150px",
    "width": "214.052px"
   },
   "toc_section_display": true,
   "toc_window_display": false
  }
 },
 "nbformat": 4,
 "nbformat_minor": 5
}
